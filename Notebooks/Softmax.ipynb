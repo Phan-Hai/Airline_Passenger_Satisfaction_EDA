{
 "cells": [
  {
   "cell_type": "markdown",
   "metadata": {},
   "source": [
    "# Setting"
   ]
  },
  {
   "cell_type": "code",
   "execution_count": 39,
   "metadata": {},
   "outputs": [],
   "source": [
    "import pandas as pd\n",
    "from sklearn.linear_model import LogisticRegression\n",
    "from sklearn.metrics import classification_report, confusion_matrix"
   ]
  },
  {
   "cell_type": "markdown",
   "metadata": {},
   "source": [
    "# Hàm"
   ]
  },
  {
   "cell_type": "code",
   "execution_count": 40,
   "metadata": {},
   "outputs": [],
   "source": [
    "def evaluate_softmax_model(file_pairs, base_path):\n",
    "    for train_file, test_file in file_pairs:\n",
    "        print(f\"\\n----- ĐÁNH GIÁ MÔ HÌNH VỚI BỘ {train_file[:-4]} - {test_file[:-4]} -----\")\n",
    "\n",
    "        df_train = pd.read_csv(f\"{base_path}/{train_file}\")\n",
    "        df_test = pd.read_csv(f\"{base_path}/{test_file}\")\n",
    "\n",
    "        X_train = df_train.drop(columns=['Index', 'id', 'satisfaction_satisfied'], errors='ignore')\n",
    "        y_train = df_train['satisfaction_satisfied']\n",
    "\n",
    "        X_test = df_test.drop(columns=['Index', 'id', 'satisfaction_satisfied'], errors='ignore')\n",
    "        y_test = df_test['satisfaction_satisfied']\n",
    "\n",
    "        model = LogisticRegression(solver='lbfgs', max_iter=2000)\n",
    "        model.fit(X_train, y_train)\n",
    "        \n",
    "        y_pred = model.predict(X_test)\n",
    "        print(classification_report(y_test, y_pred, digits=4))\n",
    "        \n",
    "        conf_matrix = confusion_matrix(y_test, y_pred)\n",
    "        print(\"\\nMa trận nhầm lẫn:\")\n",
    "        print(conf_matrix)\n"
   ]
  },
  {
   "cell_type": "markdown",
   "metadata": {},
   "source": [
    "# Test"
   ]
  },
  {
   "cell_type": "markdown",
   "metadata": {},
   "source": [
    "## Original"
   ]
  },
  {
   "cell_type": "code",
   "execution_count": 41,
   "metadata": {},
   "outputs": [
    {
     "name": "stdout",
     "output_type": "stream",
     "text": [
      "\n",
      "----- ĐÁNH GIÁ MÔ HÌNH VỚI BỘ train41 - test41 -----\n",
      "              precision    recall  f1-score   support\n",
      "\n",
      "           0     0.8792    0.9031    0.8910     14668\n",
      "           1     0.8688    0.8379    0.8531     11230\n",
      "\n",
      "    accuracy                         0.8749     25898\n",
      "   macro avg     0.8740    0.8705    0.8720     25898\n",
      "weighted avg     0.8747    0.8749    0.8746     25898\n",
      "\n",
      "\n",
      "Ma trận nhầm lẫn:\n",
      "[[13247  1421]\n",
      " [ 1820  9410]]\n",
      "\n",
      "----- ĐÁNH GIÁ MÔ HÌNH VỚI BỘ train64 - test64 -----\n",
      "              precision    recall  f1-score   support\n",
      "\n",
      "           0     0.8768    0.9000    0.8883     29354\n",
      "           1     0.8646    0.8346    0.8493     22441\n",
      "\n",
      "    accuracy                         0.8717     51795\n",
      "   macro avg     0.8707    0.8673    0.8688     51795\n",
      "weighted avg     0.8715    0.8717    0.8714     51795\n",
      "\n",
      "\n",
      "Ma trận nhầm lẫn:\n",
      "[[26420  2934]\n",
      " [ 3711 18730]]\n",
      "\n",
      "----- ĐÁNH GIÁ MÔ HÌNH VỚI BỘ train73 - test73 -----\n",
      "              precision    recall  f1-score   support\n",
      "\n",
      "           0     0.8774    0.9009    0.8890     22029\n",
      "           1     0.8654    0.8351    0.8500     16818\n",
      "\n",
      "    accuracy                         0.8724     38847\n",
      "   macro avg     0.8714    0.8680    0.8695     38847\n",
      "weighted avg     0.8722    0.8724    0.8721     38847\n",
      "\n",
      "\n",
      "Ma trận nhầm lẫn:\n",
      "[[19845  2184]\n",
      " [ 2774 14044]]\n"
     ]
    }
   ],
   "source": [
    "file_pairs = [\n",
    "    (\"train41.csv\", \"test41.csv\"),\n",
    "    (\"train64.csv\", \"test64.csv\"),\n",
    "    (\"train73.csv\", \"test73.csv\")\n",
    "]\n",
    "base_path = \"D:\\9. ky2nam3\\ML\\Project_ML\\data\\original_data\"\n",
    "\n",
    "evaluate_softmax_model(file_pairs, base_path)\n"
   ]
  },
  {
   "cell_type": "markdown",
   "metadata": {},
   "source": [
    "## PCA"
   ]
  },
  {
   "cell_type": "code",
   "execution_count": 32,
   "metadata": {},
   "outputs": [
    {
     "name": "stdout",
     "output_type": "stream",
     "text": [
      "\n",
      "----- ĐÁNH GIÁ MÔ HÌNH VỚI BỘ train_pca_41 - test_pca_41 -----\n",
      "              precision    recall  f1-score   support\n",
      "\n",
      "           0     0.8419    0.8584    0.8501     14668\n",
      "           1     0.8102    0.7894    0.7997     11230\n",
      "\n",
      "    accuracy                         0.8285     25898\n",
      "   macro avg     0.8260    0.8239    0.8249     25898\n",
      "weighted avg     0.8281    0.8285    0.8282     25898\n",
      "\n",
      "\n",
      "----- ĐÁNH GIÁ MÔ HÌNH VỚI BỘ train_pca_64 - test_pca_64 -----\n",
      "              precision    recall  f1-score   support\n",
      "\n",
      "           0     0.8396    0.8578    0.8486     29354\n",
      "           1     0.8085    0.7856    0.7969     22441\n",
      "\n",
      "    accuracy                         0.8265     51795\n",
      "   macro avg     0.8241    0.8217    0.8227     51795\n",
      "weighted avg     0.8261    0.8265    0.8262     51795\n",
      "\n",
      "\n",
      "----- ĐÁNH GIÁ MÔ HÌNH VỚI BỘ train_pca_73 - test_pca_73 -----\n",
      "              precision    recall  f1-score   support\n",
      "\n",
      "           0     0.8420    0.8566    0.8493     22029\n",
      "           1     0.8078    0.7895    0.7986     16818\n",
      "\n",
      "    accuracy                         0.8276     38847\n",
      "   macro avg     0.8249    0.8231    0.8239     38847\n",
      "weighted avg     0.8272    0.8276    0.8273     38847\n",
      "\n"
     ]
    }
   ],
   "source": [
    "file_pairs = [\n",
    "    (\"train_pca_41.csv\", \"test_pca_41.csv\"),\n",
    "    (\"train_pca_64.csv\", \"test_pca_64.csv\"),\n",
    "    (\"train_pca_73.csv\", \"test_pca_73.csv\")\n",
    "]\n",
    "base_path = \"D:\\9. ky2nam3\\ML\\Project_ML\\data\\PCA_data\"\n",
    "\n",
    "evaluate_softmax_model(file_pairs, base_path)\n"
   ]
  },
  {
   "cell_type": "markdown",
   "metadata": {},
   "source": [
    "## LDA"
   ]
  },
  {
   "cell_type": "code",
   "execution_count": 34,
   "metadata": {},
   "outputs": [
    {
     "name": "stdout",
     "output_type": "stream",
     "text": [
      "\n",
      "----- ĐÁNH GIÁ MÔ HÌNH VỚI BỘ train_lda_41 - test_lda_41 -----\n",
      "              precision    recall  f1-score   support\n",
      "\n",
      "           0     0.8772    0.8996    0.8883     14668\n",
      "           1     0.8644    0.8355    0.8497     11230\n",
      "\n",
      "    accuracy                         0.8718     25898\n",
      "   macro avg     0.8708    0.8676    0.8690     25898\n",
      "weighted avg     0.8717    0.8718    0.8716     25898\n",
      "\n",
      "\n",
      "----- ĐÁNH GIÁ MÔ HÌNH VỚI BỘ train_lda_64 - test_lda_64 -----\n",
      "              precision    recall  f1-score   support\n",
      "\n",
      "           0     0.8743    0.8984    0.8862     29354\n",
      "           1     0.8622    0.8311    0.8463     22441\n",
      "\n",
      "    accuracy                         0.8693     51795\n",
      "   macro avg     0.8683    0.8648    0.8663     51795\n",
      "weighted avg     0.8691    0.8693    0.8689     51795\n",
      "\n",
      "\n",
      "----- ĐÁNH GIÁ MÔ HÌNH VỚI BỘ train_lda_73 - test_lda_73 -----\n",
      "              precision    recall  f1-score   support\n",
      "\n",
      "           0     0.8753    0.8984    0.8867     22029\n",
      "           1     0.8622    0.8323    0.8470     16818\n",
      "\n",
      "    accuracy                         0.8698     38847\n",
      "   macro avg     0.8687    0.8654    0.8668     38847\n",
      "weighted avg     0.8696    0.8698    0.8695     38847\n",
      "\n"
     ]
    }
   ],
   "source": [
    "file_pairs = [\n",
    "    (\"train_lda_41.csv\", \"test_lda_41.csv\"),\n",
    "    (\"train_lda_64.csv\", \"test_lda_64.csv\"),\n",
    "    (\"train_lda_73.csv\", \"test_lda_73.csv\")\n",
    "]\n",
    "base_path = \"D:\\9. ky2nam3\\ML\\Project_ML\\data\\LDA_data\"\n",
    "\n",
    "evaluate_softmax_model(file_pairs, base_path)"
   ]
  }
 ],
 "metadata": {
  "kernelspec": {
   "display_name": "venv",
   "language": "python",
   "name": "python3"
  },
  "language_info": {
   "codemirror_mode": {
    "name": "ipython",
    "version": 3
   },
   "file_extension": ".py",
   "mimetype": "text/x-python",
   "name": "python",
   "nbconvert_exporter": "python",
   "pygments_lexer": "ipython3",
   "version": "3.9.8"
  }
 },
 "nbformat": 4,
 "nbformat_minor": 2
}
